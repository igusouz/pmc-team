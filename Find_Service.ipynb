{
  "cells": [
    {
      "cell_type": "code",
      "execution_count": null,
      "metadata": {
        "colab": {
          "base_uri": "https://localhost:8080/"
        },
        "id": "SHqhUEurpZqv",
        "outputId": "5f29689a-3ebe-4fca-fb35-f33681c27c81"
      },
      "outputs": [
        {
          "name": "stdout",
          "output_type": "stream",
          "text": [
            "<class 'int'>\n",
            "<class 'float'>\n",
            "<class 'str'>\n",
            "JOÃO PEDRO\n",
            "joão pedro\n",
            "João pedro\n",
            "<class 'bool'>\n",
            "<class 'list'>\n",
            "<class 'tuple'>\n",
            "<class 'set'>\n",
            "<class 'dict'>\n",
            "<class 'NoneType'>\n"
          ]
        }
      ],
      "source": [
        "import json\n",
        "\n",
        "entradas = {\n",
        "        \"servicos\": [\"casamento\", \"revelacao\", \"noivado\", \"culto\", \"alface\"]\n",
        "}\n",
        "\n",
        "def verificar(entradas, palavra):\n",
        "    servicos = entradas.get(\"servicos\",[])\n",
        "\n",
        "    if palavra in servicos:\n",
        "        return f'Servico \"{palavra}\" encontrado.'\n",
        "    else:\n",
        "        return f'Servico \"{palavra}\" não foi encontrado.'\n",
        "    \n",
        "result = verificar(entradas, 'casamento')\n",
        "print(result)\n",
        "\n",
        "result = verificar(entradas, 'velorio')\n",
        "print(result)"
      ]
    },
    {
      "cell_type": "code",
      "execution_count": null,
      "metadata": {
        "id": "E4FPN002pZqw",
        "outputId": "ac253614-d469-4ef2-9083-3f5a1be3e95d"
      },
      "outputs": [
        {
          "name": "stdout",
          "output_type": "stream",
          "text": [
            "Maior de idade\n",
            "0\n",
            "1\n",
            "2\n",
            "3\n",
            "4\n",
            "0\n",
            "1\n",
            "2\n",
            "3\n",
            "4\n",
            "5\n"
          ]
        }
      ],
      "source": [
        "# Estruturas de Repetição e Controle em Python\n",
        "# if\n",
        "idade = 25\n",
        "if idade >= 18:\n",
        "    print('Maior de idade')\n",
        "else:\n",
        "    print('Menor de idade')\n",
        "\n",
        "# for\n",
        "for i in range(5):\n",
        "    print(i)\n",
        "\n",
        "# while\n",
        "i = 0\n",
        "while i < 5:\n",
        "    print(i)\n",
        "    i += 1\n",
        "\n",
        "# Funções em Python\n",
        "def soma(a, b):\n",
        "    return a + b\n",
        "\n",
        "print(soma(2, 3))  # 5"
      ]
    },
    {
      "cell_type": "code",
      "execution_count": null,
      "metadata": {
        "id": "JFmLp6y7pZqx"
      },
      "outputs": [],
      "source": [
        "# Calculando IMC com Função\n",
        "def calcular_imc(peso, altura):\n",
        "    return peso / altura ** 2"
      ]
    },
    {
      "cell_type": "code",
      "execution_count": null,
      "metadata": {
        "id": "GnAvRHippZqx",
        "outputId": "18d52b86-96ac-436e-94d0-5cb7e56a8c91"
      },
      "outputs": [
        {
          "name": "stdout",
          "output_type": "stream",
          "text": [
            "26.122448979591837\n"
          ]
        }
      ],
      "source": [
        "# Executando calculo de IMC com Função\n",
        "peso = 80\n",
        "altura = 1.75\n",
        "resultado = calcular_imc(peso, altura)\n",
        "print(resultado)  # 26.122448979591"
      ]
    },
    {
      "cell_type": "code",
      "execution_count": null,
      "metadata": {
        "id": "qZSuyRz8pZqx",
        "outputId": "9235383f-750e-4ef4-d608-f8f037fbc4d7"
      },
      "outputs": [
        {
          "name": "stdout",
          "output_type": "stream",
          "text": [
            "O IMC é 26.1224\n"
          ]
        }
      ],
      "source": [
        "# Apresentando resultado formatado\n",
        "print(f'O IMC é {resultado:.4f}')"
      ]
    },
    {
      "cell_type": "code",
      "execution_count": null,
      "metadata": {
        "id": "GlWHyLNeqKlW"
      },
      "outputs": [],
      "source": [
        "# Desenvolva um método que retorne todos os valores pares dado um intervalo informado\n",
        "def retorna_pares(inicio, fim):\n",
        "    pares = []\n",
        "    for numero in range(inicio, fim + 1):\n",
        "        if numero % 2 == 0:\n",
        "            pares.append(numero)\n",
        "    return pares"
      ]
    },
    {
      "cell_type": "code",
      "execution_count": null,
      "metadata": {
        "colab": {
          "base_uri": "https://localhost:8080/"
        },
        "id": "0nw8hfG0qSRb",
        "outputId": "119a4404-7080-4975-8944-1ba54cf816d7"
      },
      "outputs": [
        {
          "data": {
            "text/plain": [
              "[2, 4, 6, 8, 10]"
            ]
          },
          "execution_count": 2,
          "metadata": {},
          "output_type": "execute_result"
        }
      ],
      "source": [
        "retorna_pares(1, 10)"
      ]
    },
    {
      "cell_type": "code",
      "execution_count": null,
      "metadata": {
        "id": "B8MQNz2IqUbs"
      },
      "outputs": [],
      "source": [
        "# Desenvolva um método que conta a quantidade de vezes que uma palavra aparece dado um texto informado\n",
        "def conta_palavras(texto, palavra):\n",
        "    contador = 0\n",
        "    palavras = texto.split()\n",
        "    for p in palavras:\n",
        "        if p == palavra:\n",
        "            contador += 1\n",
        "    return contador"
      ]
    },
    {
      "cell_type": "code",
      "execution_count": null,
      "metadata": {
        "colab": {
          "base_uri": "https://localhost:8080/"
        },
        "id": "uqQPiLjYqdpC",
        "outputId": "0fc452c4-c9a9-4f66-e036-598e37bfd5b9"
      },
      "outputs": [
        {
          "data": {
            "text/plain": [
              "1"
            ]
          },
          "execution_count": 4,
          "metadata": {},
          "output_type": "execute_result"
        }
      ],
      "source": [
        "conta_palavras('Python é uma linguagem de programação', 'Python')"
      ]
    },
    {
      "cell_type": "code",
      "execution_count": null,
      "metadata": {
        "id": "nfB4gPlbsEXi"
      },
      "outputs": [],
      "source": [
        "# Manipulando Lists com Python\n",
        "# Criando uma lista\n",
        "lista = [1, 2, 3, 4, 5]\n",
        "print(lista)  # [1, 2, 3, 4, 5]\n",
        "\n",
        "# Adicionando um elemento ao final da lista\n",
        "lista.append(6)\n",
        "print(lista)  # [1, 2, 3, 4, 5, 6]\n",
        "\n",
        "# Removendo um elemento da lista\n",
        "lista.remove(3)\n",
        "print(lista)  # [1, 2, 4, 5, 6]\n",
        "\n",
        "# Removendo o último elemento da lista\n",
        "lista.pop()\n",
        "print(lista)  # [1, 2, 4, 5]\n",
        "\n",
        "# Inserindo um elemento na lista em uma posição específica\n",
        "lista.insert(2, 3)\n",
        "print(lista)  # [1, 2, 3, 4, 5]\n",
        "\n",
        "# Ordenando a lista\n",
        "lista.sort()\n",
        "print(lista)  # [1, 2, 3, 4, 5]\n",
        "\n",
        "# Invertendo a ordem dos elementos da lista\n",
        "lista.reverse()\n",
        "print(lista)  # [5, 4, 3, 2, 1]\n"
      ]
    },
    {
      "cell_type": "code",
      "execution_count": null,
      "metadata": {
        "id": "x5MhCIUqsaLk"
      },
      "outputs": [],
      "source": [
        "# Manipulando Dicts em Python\n",
        "# Criando um dicionário\n",
        "dicionario = {'nome': 'João', 'idade': 25}\n",
        "print(dicionario)  # {'nome': 'João', 'idade': 25}\n",
        "\n",
        "# Adicionando uma chave-valor ao dicionário\n",
        "dicionario['cidade'] = 'São Paulo'\n",
        "print(dicionario)  # {'nome': 'João', 'idade': 25, 'cidade': 'São Paulo'}\n",
        "\n",
        "# Removendo uma chave-valor do dicionário\n",
        "del dicionario['idade']\n",
        "print(dicionario)  # {'nome': 'João', 'cidade': 'São Paulo'}\n",
        "\n",
        "# Acessando um valor do dicionário\n",
        "print(dicionario['nome'])  # João"
      ]
    },
    {
      "cell_type": "code",
      "execution_count": null,
      "metadata": {
        "colab": {
          "base_uri": "https://localhost:8080/"
        },
        "id": "BRVO2S5ksmVU",
        "outputId": "29dd526e-da5c-42b6-bf23-5a3c3207e815"
      },
      "outputs": [
        {
          "name": "stdout",
          "output_type": "stream",
          "text": [
            "(1, 2, 3, 4, 5)\n",
            "3\n"
          ]
        }
      ],
      "source": [
        "# Manipulando Tuplas em Python\n",
        "# Criando um tuple\n",
        "tupla = (1, 2, 3, 4, 5)\n",
        "print(tupla)  # (1, 2, 3, 4, 5)\n",
        "\n",
        "# Acessando um valor da Tupla\n",
        "print(tupla[2])  # 3\n",
        "\n",
        "# não é possível remover um item de uma tupla,\n",
        "# porém podemos deletar toda ela usando o comando del\n",
        "del tupla"
      ]
    },
    {
      "cell_type": "code",
      "execution_count": null,
      "metadata": {
        "id": "wnXUKlxotIKP"
      },
      "outputs": [],
      "source": []
    }
  ],
  "metadata": {
    "colab": {
      "provenance": []
    },
    "kernelspec": {
      "display_name": "duck_env",
      "language": "python",
      "name": "python3"
    },
    "language_info": {
      "codemirror_mode": {
        "name": "ipython",
        "version": 3
      },
      "file_extension": ".py",
      "mimetype": "text/x-python",
      "name": "python",
      "nbconvert_exporter": "python",
      "pygments_lexer": "ipython3",
      "version": "3.12.3"
    }
  },
  "nbformat": 4,
  "nbformat_minor": 0
}
